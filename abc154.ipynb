{
  "nbformat": 4,
  "nbformat_minor": 0,
  "metadata": {
    "colab": {
      "name": "abc154.ipynb",
      "provenance": [],
      "authorship_tag": "ABX9TyMXRcF8nfubKFzEARrG6qEY",
      "include_colab_link": true
    },
    "kernelspec": {
      "name": "python3",
      "display_name": "Python 3"
    },
    "language_info": {
      "name": "python"
    }
  },
  "cells": [
    {
      "cell_type": "markdown",
      "metadata": {
        "id": "view-in-github",
        "colab_type": "text"
      },
      "source": [
        "<a href=\"https://colab.research.google.com/github/Dopel04/atc/blob/main/abc154.ipynb\" target=\"_parent\"><img src=\"https://colab.research.google.com/assets/colab-badge.svg\" alt=\"Open In Colab\"/></a>"
      ]
    },
    {
      "cell_type": "code",
      "metadata": {
        "colab": {
          "base_uri": "https://localhost:8080/"
        },
        "id": "p6Xw5q1JEOyS",
        "outputId": "70e4e2e9-716b-45aa-b2a7-2a3b05d6fa46"
      },
      "source": [
        "def I(t): return t(input().strip())\n",
        "def IM(t): return map(t,input().split())\n",
        "def IL(t): return list(map(t,input().split()))\n",
        "def ILs(t, n): return list(t(input()) for _ in range(n))\n",
        "def ILL(t, n): return [list(map(t, input().split())) for _ in range(n)]\n",
        "\n",
        "def func(n):\n",
        "\tout = n*(n+1)//2\n",
        "\treturn out/n\n",
        "\n",
        "n, k = IM(int)\n",
        "p = IL(int)\n",
        "\n",
        "ans = 0\n",
        "pre = 0\n",
        "x = []\n",
        "for i in range(n):\n",
        "\tx.append(func(p[i]))\n",
        "\tif i >= k:\n",
        "\t\tpre -= x[i-k]\n",
        "\tpre += x[i]\n",
        "\tans = max(ans, pre)\n",
        "print(ans)"
      ],
      "execution_count": 1,
      "outputs": [
        {
          "output_type": "stream",
          "text": [
            "3 1\n",
            "6 6 6\n",
            "3.5\n"
          ],
          "name": "stdout"
        }
      ]
    }
  ]
}