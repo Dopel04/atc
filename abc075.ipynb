{
  "nbformat": 4,
  "nbformat_minor": 0,
  "metadata": {
    "colab": {
      "name": "abc075.ipynb",
      "provenance": [],
      "authorship_tag": "ABX9TyOe5/xdV1CRvg116Qq9oPuE",
      "include_colab_link": true
    },
    "kernelspec": {
      "name": "python3",
      "display_name": "Python 3"
    },
    "language_info": {
      "name": "python"
    }
  },
  "cells": [
    {
      "cell_type": "markdown",
      "metadata": {
        "id": "view-in-github",
        "colab_type": "text"
      },
      "source": [
        "<a href=\"https://colab.research.google.com/github/Dopel04/atc/blob/main/abc075.ipynb\" target=\"_parent\"><img src=\"https://colab.research.google.com/assets/colab-badge.svg\" alt=\"Open In Colab\"/></a>"
      ]
    },
    {
      "cell_type": "code",
      "metadata": {
        "colab": {
          "base_uri": "https://localhost:8080/"
        },
        "id": "-s46XP4ZHG3T",
        "outputId": "a7cd4f59-d6a7-47d6-ed21-c792c48344ed"
      },
      "source": [
        "\n",
        "#@title \n",
        "import bisect\n",
        "import heapq\n",
        "from collections import defaultdict\n",
        "from collections import deque\n",
        "from collections import Counter\n",
        "from functools import lru_cache\n",
        "import sys\n",
        "sys.setrecursionlimit(500*500)\n",
        " \n",
        "#############\n",
        "# Constants #\n",
        "#############\n",
        " \n",
        "MOD = 10**9+7\n",
        "INF = float('inf')\n",
        "AZ = \"abcdefghijklmnopqrstuvwxyz\"\n",
        " \n",
        "#############\n",
        "# Functions #\n",
        "#############\n",
        " \n",
        "######INPUT######\n",
        "def I(t): return t(input().strip())\n",
        "def IM(t): return map(t,input().split())\n",
        "def IL(t): return list(map(t,input().split()))\n",
        "def ILs(t, n): return list(t(input()) for _ in range(n))\n",
        "def ILL(t, n): return [list(map(t, input().split())) for _ in range(n)]\n",
        "\n",
        "s = IL(int)\n",
        "\n",
        "d = []\n",
        "for i in s:\n",
        "  if i in d:\n",
        "    d.pop(d.index(i))\n",
        "  else:\n",
        "    d.append(i)\n",
        "print(d[0])"
      ],
      "execution_count": null,
      "outputs": [
        {
          "output_type": "stream",
          "text": [
            "5 7 5\n",
            "7\n"
          ],
          "name": "stdout"
        }
      ]
    },
    {
      "cell_type": "code",
      "metadata": {
        "colab": {
          "base_uri": "https://localhost:8080/",
          "height": 369
        },
        "id": "cmh9swgnII4t",
        "outputId": "3e70c8c5-6fd7-4ed6-c7ef-0ef90797e4a9"
      },
      "source": [
        "#@title \n",
        "import bisect\n",
        "import heapq\n",
        "from collections import defaultdict\n",
        "from collections import deque\n",
        "from collections import Counter\n",
        "from functools import lru_cache\n",
        "import sys\n",
        "sys.setrecursionlimit(500*500)\n",
        " \n",
        "#############\n",
        "# Constants #\n",
        "#############\n",
        " \n",
        "MOD = 10**9+7\n",
        "INF = float('inf')\n",
        "AZ = \"abcdefghijklmnopqrstuvwxyz\"\n",
        " \n",
        "#############\n",
        "# Functions #\n",
        "#############\n",
        " \n",
        "######INPUT######\n",
        "def I(t): return t(input().strip())\n",
        "def IM(t): return map(t,input().split())\n",
        "def IL(t): return list(map(t,input().split()))\n",
        "def ILs(t, n): return list(t(input()) for _ in range(n))\n",
        "def ILL(t, n): return [list(map(t, input().split())) for _ in range(n)]\n",
        "\n",
        "h, w = IM(int)\n",
        "s = ILs(str, h)\n",
        "x = [[0]*w for _ in range(h)]\n",
        "\n",
        "vec = [[-1, -1], [-1, 0], [-1, 1], [0, 1],\n",
        "       [1, 1], [1, 0], [1, -1], [0, -1]]\n",
        "for i in range(h):\n",
        "  for j in range(w):\n",
        "    if s[i][j] == '#':\n",
        "      x[i][j] = '#'\n",
        "      continue\n",
        "    bomb = 0\n",
        "    for vector in vec:\n",
        "      ny, nx = i+vector[0], j+vector[1]\n",
        "      \n",
        "      if (0 <= ny < h) and (0 <= nx < w):\n",
        "        bomb += (1 if s[ny][nx] == '#' else 0)\n",
        "    x[i][j] = str(bomb)\n",
        "for i in range(h):\n",
        "  ans = ''.join(x[i])\n",
        "  print(ans)"
      ],
      "execution_count": null,
      "outputs": [
        {
          "output_type": "stream",
          "text": [
            "3 5\n",
            "…..\n",
            ".#.#.\n",
            "…..\n",
            "['…..', '.#.#.', '…..']\n"
          ],
          "name": "stdout"
        },
        {
          "output_type": "error",
          "ename": "IndexError",
          "evalue": "ignored",
          "traceback": [
            "\u001b[0;31m---------------------------------------------------------------------------\u001b[0m",
            "\u001b[0;31mIndexError\u001b[0m                                Traceback (most recent call last)",
            "\u001b[0;32m<ipython-input-22-4da19bd99192>\u001b[0m in \u001b[0;36m<module>\u001b[0;34m()\u001b[0m\n\u001b[1;32m     45\u001b[0m \u001b[0;34m\u001b[0m\u001b[0m\n\u001b[1;32m     46\u001b[0m       \u001b[0;32mif\u001b[0m \u001b[0;34m(\u001b[0m\u001b[0;36m0\u001b[0m \u001b[0;34m<=\u001b[0m \u001b[0mny\u001b[0m \u001b[0;34m<\u001b[0m \u001b[0mh\u001b[0m\u001b[0;34m)\u001b[0m \u001b[0;32mand\u001b[0m \u001b[0;34m(\u001b[0m\u001b[0;36m0\u001b[0m \u001b[0;34m<=\u001b[0m \u001b[0mnx\u001b[0m \u001b[0;34m<\u001b[0m \u001b[0mw\u001b[0m\u001b[0;34m)\u001b[0m\u001b[0;34m:\u001b[0m\u001b[0;34m\u001b[0m\u001b[0;34m\u001b[0m\u001b[0m\n\u001b[0;32m---> 47\u001b[0;31m         \u001b[0mbomb\u001b[0m \u001b[0;34m+=\u001b[0m \u001b[0;34m(\u001b[0m\u001b[0;36m1\u001b[0m \u001b[0;32mif\u001b[0m \u001b[0ms\u001b[0m\u001b[0;34m[\u001b[0m\u001b[0mny\u001b[0m\u001b[0;34m]\u001b[0m\u001b[0;34m[\u001b[0m\u001b[0mnx\u001b[0m\u001b[0;34m]\u001b[0m \u001b[0;34m==\u001b[0m \u001b[0;34m'#'\u001b[0m \u001b[0;32melse\u001b[0m \u001b[0;36m0\u001b[0m\u001b[0;34m)\u001b[0m\u001b[0;34m\u001b[0m\u001b[0;34m\u001b[0m\u001b[0m\n\u001b[0m\u001b[1;32m     48\u001b[0m     \u001b[0mx\u001b[0m\u001b[0;34m[\u001b[0m\u001b[0mi\u001b[0m\u001b[0;34m]\u001b[0m\u001b[0;34m[\u001b[0m\u001b[0mj\u001b[0m\u001b[0;34m]\u001b[0m \u001b[0;34m=\u001b[0m \u001b[0mstr\u001b[0m\u001b[0;34m(\u001b[0m\u001b[0mbomb\u001b[0m\u001b[0;34m)\u001b[0m\u001b[0;34m\u001b[0m\u001b[0;34m\u001b[0m\u001b[0m\n\u001b[1;32m     49\u001b[0m \u001b[0;32mfor\u001b[0m \u001b[0mi\u001b[0m \u001b[0;32min\u001b[0m \u001b[0mrange\u001b[0m\u001b[0;34m(\u001b[0m\u001b[0mh\u001b[0m\u001b[0;34m)\u001b[0m\u001b[0;34m:\u001b[0m\u001b[0;34m\u001b[0m\u001b[0;34m\u001b[0m\u001b[0m\n",
            "\u001b[0;31mIndexError\u001b[0m: string index out of range"
          ]
        }
      ]
    },
    {
      "cell_type": "code",
      "metadata": {
        "colab": {
          "base_uri": "https://localhost:8080/"
        },
        "id": "sKIR96HtJFdf",
        "outputId": "04662fd3-490d-4233-d15d-1afc72b1adf7"
      },
      "source": [
        "#@title \n",
        "import bisect\n",
        "import heapq\n",
        "from collections import defaultdict\n",
        "from collections import deque\n",
        "from collections import Counter\n",
        "from functools import lru_cache\n",
        "import sys\n",
        "sys.setrecursionlimit(500*500)\n",
        " \n",
        "#############\n",
        "# Constants #\n",
        "#############\n",
        " \n",
        "MOD = 10**9+7\n",
        "INF = float('inf')\n",
        "AZ = \"abcdefghijklmnopqrstuvwxyz\"\n",
        " \n",
        "#############\n",
        "# Functions #\n",
        "#############\n",
        " \n",
        "######INPUT######\n",
        "def I(t): return t(input().strip())\n",
        "def IM(t): return map(t,input().split())\n",
        "def IL(t): return list(map(t,input().split()))\n",
        "def ILs(t, n): return list(t(input()) for _ in range(n))\n",
        "def ILL(t, n): return [list(map(t, input().split())) for _ in range(n)]\n",
        "\n",
        "#n, m = IM(int)\n",
        "#ab = ILL(int, m)\n",
        "\n",
        "n, m = 7, 7\n",
        "ab = [[1, 3], [2, 7], [3, 4], [4, 5],\n",
        "      [4, 6], [5, 6], [6, 7]]\n",
        "\n",
        "edge = [[] for _ in range(n)]\n",
        "for a, b in ab:\n",
        "  edge[a-1].append(b-1)\n",
        "  edge[b-1].append(a-1)\n",
        "\n",
        "print(edge)\n",
        "ans = 0\n",
        "for i in range(m):\n",
        "  flg = True\n",
        "\n",
        "  s = [[ab[i][0]-1, ab[i][0]-1]]\n",
        "  visit = [[] for _ in range(n)]\n",
        "  visit[ab[i][1]-1] = [ab[i][1]-1]\n",
        "  while s:\n",
        "    x, r = s.pop()\n",
        "    for j in edge[x]:\n",
        "      if j == ab[i][0]-1:\n",
        "        continue\n",
        "      if (x == ab[i][0]-1) and (j == ab[i][1]-1):\n",
        "        continue\n",
        "\n",
        "      if visit[j] != []:\n",
        "        for v in visit[j]:\n",
        "          if v != r:\n",
        "            flg = False\n",
        "      else:\n",
        "        visit[j].append(r)\n",
        "        s.append([j, r])\n",
        "  print(visit)\n",
        "  if flg:\n",
        "    ans += 1\n",
        "print(ans) \n",
        "    \n",
        "\n",
        "\n",
        "\n"
      ],
      "execution_count": 21,
      "outputs": [
        {
          "output_type": "stream",
          "text": [
            "[[2], [6], [0, 3], [2, 4, 5], [3, 5], [3, 4, 6], [1, 5]]\n",
            "[[], [], [2], [], [], [], []]\n",
            "[[], [], [], [], [], [], [6]]\n",
            "[[2], [], [], [3], [], [], []]\n",
            "[[3], [3], [3], [], [4], [3], [3]]\n",
            "[[3], [], [3], [], [3], [5], []]\n",
            "[[4], [], [4], [4], [], [5], []]\n",
            "[[5], [], [5], [5], [5], [], [6]]\n",
            "4\n"
          ],
          "name": "stdout"
        }
      ]
    },
    {
      "cell_type": "code",
      "metadata": {
        "id": "BcuMUgw6RyUa"
      },
      "source": [
        "6 "
      ],
      "execution_count": null,
      "outputs": []
    }
  ]
}