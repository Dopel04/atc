{
  "nbformat": 4,
  "nbformat_minor": 0,
  "metadata": {
    "colab": {
      "name": "abc152.ipynb",
      "provenance": [],
      "collapsed_sections": [],
      "authorship_tag": "ABX9TyN4H2c+89foMPxtkOlpYt/J",
      "include_colab_link": true
    },
    "kernelspec": {
      "name": "python3",
      "display_name": "Python 3"
    },
    "language_info": {
      "name": "python"
    }
  },
  "cells": [
    {
      "cell_type": "markdown",
      "metadata": {
        "id": "view-in-github",
        "colab_type": "text"
      },
      "source": [
        "<a href=\"https://colab.research.google.com/github/Dopel04/atc/blob/main/abc152.ipynb\" target=\"_parent\"><img src=\"https://colab.research.google.com/assets/colab-badge.svg\" alt=\"Open In Colab\"/></a>"
      ]
    },
    {
      "cell_type": "code",
      "metadata": {
        "id": "Kvwu2auVGN-U"
      },
      "source": [
        ""
      ],
      "execution_count": null,
      "outputs": []
    },
    {
      "cell_type": "markdown",
      "metadata": {
        "id": "x_zNAjn-GNid"
      },
      "source": [
        ""
      ]
    },
    {
      "cell_type": "code",
      "metadata": {
        "id": "IRiYDa2fKAeA"
      },
      "source": [
        ""
      ],
      "execution_count": null,
      "outputs": []
    },
    {
      "cell_type": "code",
      "metadata": {
        "id": "rvRlq4PaJhy6"
      },
      "source": [
        "#@title \n",
        "import bisect\n",
        "import heapq\n",
        "from collections import defaultdict\n",
        "from collections import deque\n",
        "from collections import Counter\n",
        "from functools import lru_cache\n",
        "import sys\n",
        "sys.setrecursionlimit(500*500)\n",
        " \n",
        "#############\n",
        "# Constants #\n",
        "#############\n",
        " \n",
        "MOD = 10**9+7\n",
        "INF = float('inf')\n",
        "AZ = \"abcdefghijklmnopqrstuvwxyz\"\n",
        " \n",
        "#############\n",
        "# Functions #\n",
        "#############\n",
        " \n",
        "######INPUT######\n",
        "def I(t): return t(input().strip())\n",
        "def IM(t): return map(t,input().split())\n",
        "def IL(t): return list(map(t,input().split()))\n",
        "def ILs(t, n): return list(t(input()) for _ in range(n))\n",
        "def ILL(t, n): return [list(map(t, input().split())) for _ in range(n)]\n",
        "\n",
        "n, m = IM(int)\n",
        "\n",
        "if n == m:\n",
        "  print('Yes')\n",
        "else:\n",
        "  print('No')"
      ],
      "execution_count": null,
      "outputs": []
    },
    {
      "cell_type": "code",
      "metadata": {
        "colab": {
          "base_uri": "https://localhost:8080/"
        },
        "id": "uIiK1EEwKMCM",
        "outputId": "c878f479-c841-476e-9537-00ef44e93f39"
      },
      "source": [
        "#@title \n",
        "import bisect\n",
        "import heapq\n",
        "from collections import defaultdict\n",
        "from collections import deque\n",
        "from collections import Counter\n",
        "from functools import lru_cache\n",
        "import sys\n",
        "sys.setrecursionlimit(500*500)\n",
        " \n",
        "#############\n",
        "# Constants #\n",
        "#############\n",
        " \n",
        "MOD = 10**9+7\n",
        "INF = float('inf')\n",
        "AZ = \"abcdefghijklmnopqrstuvwxyz\"\n",
        " \n",
        "#############\n",
        "# Functions #\n",
        "#############\n",
        " \n",
        "######INPUT######\n",
        "def I(t): return t(input().strip())\n",
        "def IM(t): return map(t,input().split())\n",
        "def IL(t): return list(map(t,input().split()))\n",
        "def ILs(t, n): return list(t(input()) for _ in range(n))\n",
        "def ILL(t, n): return [list(map(t, input().split())) for _ in range(n)]\n",
        "\n",
        "a, b = IM(int)\n",
        "\n",
        "ans_a = str(a)*b\n",
        "ans_b = str(b)*a\n",
        "\n",
        "print(min(ans_a, ans_b)) "
      ],
      "execution_count": 4,
      "outputs": [
        {
          "output_type": "stream",
          "text": [
            "7 7\n",
            "7777777\n"
          ],
          "name": "stdout"
        }
      ]
    },
    {
      "cell_type": "code",
      "metadata": {
        "colab": {
          "base_uri": "https://localhost:8080/"
        },
        "id": "a_yAl07vMGpm",
        "outputId": "c2ddbbfa-8ccb-4fd6-b629-473876921f07"
      },
      "source": [
        "#@title \n",
        "import bisect\n",
        "import heapq\n",
        "from collections import defaultdict\n",
        "from collections import deque\n",
        "from collections import Counter\n",
        "from functools import lru_cache\n",
        "import sys\n",
        "sys.setrecursionlimit(500*500)\n",
        " \n",
        "#############\n",
        "# Constants #\n",
        "#############\n",
        " \n",
        "MOD = 10**9+7\n",
        "INF = float('inf')\n",
        "AZ = \"abcdefghijklmnopqrstuvwxyz\"\n",
        " \n",
        "#############\n",
        "# Functions #\n",
        "#############\n",
        " \n",
        "######INPUT######\n",
        "def I(t): return t(input().strip())\n",
        "def IM(t): return map(t,input().split())\n",
        "def IL(t): return list(map(t,input().split()))\n",
        "def ILs(t, n): return list(t(input()) for _ in range(n))\n",
        "def ILL(t, n): return [list(map(t, input().split())) for _ in range(n)]\n",
        "\n",
        "n = I(int) \n",
        "a = IL(int)\n",
        "\n",
        "ans = 1\n",
        "min_value  = 10**9\n",
        "for i in range(n-1):\n",
        "  min_value = min(min_value, a[i])\n",
        "  ans += (1 if min_value >= a[i+1] else 0)\n",
        "print(ans)\n"
      ],
      "execution_count": 19,
      "outputs": [
        {
          "output_type": "stream",
          "text": [
            "4\n",
            "4 3 2 1\n",
            "4\n"
          ],
          "name": "stdout"
        }
      ]
    }
  ]
}