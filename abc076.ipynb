{
  "nbformat": 4,
  "nbformat_minor": 0,
  "metadata": {
    "colab": {
      "name": "abc076.ipynb",
      "provenance": [],
      "authorship_tag": "ABX9TyO1pjWP+JLzrsmvK/5Jdaya",
      "include_colab_link": true
    },
    "kernelspec": {
      "name": "python3",
      "display_name": "Python 3"
    },
    "language_info": {
      "name": "python"
    }
  },
  "cells": [
    {
      "cell_type": "markdown",
      "metadata": {
        "id": "view-in-github",
        "colab_type": "text"
      },
      "source": [
        "<a href=\"https://colab.research.google.com/github/Dopel04/atc/blob/main/abc076.ipynb\" target=\"_parent\"><img src=\"https://colab.research.google.com/assets/colab-badge.svg\" alt=\"Open In Colab\"/></a>"
      ]
    },
    {
      "cell_type": "code",
      "metadata": {
        "colab": {
          "base_uri": "https://localhost:8080/"
        },
        "id": "fIFFwGywqFet",
        "outputId": "60a40f7c-8853-4391-851b-2dd4f27c03c0"
      },
      "source": [
        "#@title \n",
        "import bisect\n",
        "import heapq\n",
        "from collections import defaultdict\n",
        "from collections import deque\n",
        "from collections import Counter\n",
        "from functools import lru_cache\n",
        "import sys\n",
        "sys.setrecursionlimit(500*500)\n",
        " \n",
        "#############\n",
        "# Constants #\n",
        "#############\n",
        " \n",
        "MOD = 10**9+7\n",
        "INF = float('inf')\n",
        "AZ = \"abcdefghijklmnopqrstuvwxyz\"\n",
        " \n",
        "#############\n",
        "# Functions #\n",
        "#############\n",
        " \n",
        "######INPUT######\n",
        "def I(t): return t(input().strip())\n",
        "def IM(t): return map(t,input().split())\n",
        "def IL(t): return list(map(t,input().split()))\n",
        "def ILs(t, n): return list(t(input()) for _ in range(n))\n",
        "def ILL(t, n): return [list(map(t, input().split())) for _ in range(n)]\n",
        "\n",
        "r = I(int)\n",
        "g = I(int)\n",
        "\n",
        "ans = 2*g - r\n",
        "print(ans)"
      ],
      "execution_count": null,
      "outputs": [
        {
          "output_type": "stream",
          "text": [
            "4500\n",
            "0\n",
            "-4500\n"
          ],
          "name": "stdout"
        }
      ]
    },
    {
      "cell_type": "code",
      "metadata": {
        "colab": {
          "base_uri": "https://localhost:8080/"
        },
        "id": "vsHRmA5fsEse",
        "outputId": "e0406530-f8cb-4df9-b24d-54bd74eefc1a"
      },
      "source": [
        "\n",
        "#@title \n",
        "import bisect\n",
        "import heapq\n",
        "from collections import defaultdict\n",
        "from collections import deque\n",
        "from collections import Counter\n",
        "from functools import lru_cache\n",
        "import sys\n",
        "sys.setrecursionlimit(500*500)\n",
        " \n",
        "#############\n",
        "# Constants #\n",
        "#############\n",
        " \n",
        "MOD = 10**9+7\n",
        "INF = float('inf')\n",
        "AZ = \"abcdefghijklmnopqrstuvwxyz\"\n",
        " \n",
        "#############\n",
        "# Functions #\n",
        "#############\n",
        " \n",
        "######INPUT######\n",
        "def I(t): return t(input().strip())\n",
        "def IM(t): return map(t,input().split())\n",
        "def IL(t): return list(map(t,input().split()))\n",
        "def ILs(t, n): return list(t(input()) for _ in range(n))\n",
        "def ILL(t, n): return [list(map(t, input().split())) for _ in range(n)]\n",
        "\n",
        "n = I(int)\n",
        "k = I(int)\n",
        "\n",
        "ans = 1\n",
        "for i in range(n):\n",
        "  ans = min(2*ans, ans+k)\n",
        "print(ans)"
      ],
      "execution_count": 7,
      "outputs": [
        {
          "output_type": "stream",
          "text": [
            "4\n",
            "3\n",
            "2\n",
            "4\n",
            "7\n",
            "10\n",
            "10\n"
          ],
          "name": "stdout"
        }
      ]
    },
    {
      "cell_type": "code",
      "metadata": {
        "colab": {
          "base_uri": "https://localhost:8080/"
        },
        "id": "SEbeSk1As3UZ",
        "outputId": "3643a0c9-f384-4dc4-a7f3-6d39abfc40ba"
      },
      "source": [
        "\n",
        "#@title \n",
        "import bisect\n",
        "import heapq\n",
        "from collections import defaultdict\n",
        "from collections import deque\n",
        "from collections import Counter\n",
        "from functools import lru_cache\n",
        "import sys\n",
        "sys.setrecursionlimit(500*500)\n",
        " \n",
        "#############\n",
        "# Constants #\n",
        "#############\n",
        " \n",
        "MOD = 10**9+7\n",
        "INF = float('inf')\n",
        "AZ = \"abcdefghijklmnopqrstuvwxyz\"\n",
        " \n",
        "#############\n",
        "# Functions #\n",
        "#############\n",
        " \n",
        "######INPUT######\n",
        "def I(t): return t(input().strip())\n",
        "def IM(t): return map(t,input().split())\n",
        "def IL(t): return list(map(t,input().split()))\n",
        "def ILs(t, n): return list(t(input()) for _ in range(n))\n",
        "def ILL(t, n): return [list(map(t, input().split())) for _ in range(n)]\n",
        "\n",
        "s = '?tc????'\n",
        "t = 'coder'\n",
        "s = I(str)\n",
        "t = I(str)\n",
        "\n",
        "d = dict()\n",
        "for i in range(len(t)):\n",
        "  if t[i] in d:\n",
        "    d[t[i]].append(i)\n",
        "  else:\n",
        "    d[t[i]] = [i]\n",
        "\n",
        "ans = []\n",
        "for i in range(len(s)):\n",
        "  w = s[i]\n",
        "  if w in d:\n",
        "    for j in d[w]:\n",
        "      if i < j:\n",
        "        break\n",
        "      if (len(s)-1-i) < (len(t)-1-j):\n",
        "        continue\n",
        "      flg = True\n",
        "      for k in range(len(t)):\n",
        "        x = s[i-j:]\n",
        "        if x[k] == '?':\n",
        "          continue\n",
        "        if x[k] != t[k]:\n",
        "          flg = False\n",
        "      if flg:\n",
        "        z = s[:i-j]\n",
        "        z += t\n",
        "        z += s[len(s)-(len(s)-1-i)+(len(t)-j)-1:]\n",
        "        z = z.replace('?', 'a')\n",
        "        ans.append(z)\n",
        "if ans == []:\n",
        "  print('UNRESTORABLE')\n",
        "else:\n",
        "  ans = sorted(ans)\n",
        "  print(ans[0])\n",
        "\n",
        "\n",
        "\n"
      ],
      "execution_count": 51,
      "outputs": [
        {
          "output_type": "stream",
          "text": [
            "?tc????\n",
            "code\n",
            "atcodea\n"
          ],
          "name": "stdout"
        }
      ]
    },
    {
      "cell_type": "code",
      "metadata": {
        "id": "KM0bt6J_v-wS"
      },
      "source": [
        ""
      ],
      "execution_count": null,
      "outputs": []
    }
  ]
}