{
  "nbformat": 4,
  "nbformat_minor": 0,
  "metadata": {
    "colab": {
      "name": "abc076.ipynb",
      "provenance": [],
      "authorship_tag": "ABX9TyOaivgZlKNGr6gNe/pSxRHI",
      "include_colab_link": true
    },
    "kernelspec": {
      "name": "python3",
      "display_name": "Python 3"
    },
    "language_info": {
      "name": "python"
    }
  },
  "cells": [
    {
      "cell_type": "markdown",
      "metadata": {
        "id": "view-in-github",
        "colab_type": "text"
      },
      "source": [
        "<a href=\"https://colab.research.google.com/github/Dopel04/atc/blob/main/abc076.ipynb\" target=\"_parent\"><img src=\"https://colab.research.google.com/assets/colab-badge.svg\" alt=\"Open In Colab\"/></a>"
      ]
    },
    {
      "cell_type": "code",
      "metadata": {
        "colab": {
          "base_uri": "https://localhost:8080/"
        },
        "id": "fIFFwGywqFet",
        "outputId": "60a40f7c-8853-4391-851b-2dd4f27c03c0"
      },
      "source": [
        "#@title \n",
        "import bisect\n",
        "import heapq\n",
        "from collections import defaultdict\n",
        "from collections import deque\n",
        "from collections import Counter\n",
        "from functools import lru_cache\n",
        "import sys\n",
        "sys.setrecursionlimit(500*500)\n",
        " \n",
        "#############\n",
        "# Constants #\n",
        "#############\n",
        " \n",
        "MOD = 10**9+7\n",
        "INF = float('inf')\n",
        "AZ = \"abcdefghijklmnopqrstuvwxyz\"\n",
        " \n",
        "#############\n",
        "# Functions #\n",
        "#############\n",
        " \n",
        "######INPUT######\n",
        "def I(t): return t(input().strip())\n",
        "def IM(t): return map(t,input().split())\n",
        "def IL(t): return list(map(t,input().split()))\n",
        "def ILs(t, n): return list(t(input()) for _ in range(n))\n",
        "def ILL(t, n): return [list(map(t, input().split())) for _ in range(n)]\n",
        "\n",
        "r = I(int)\n",
        "g = I(int)\n",
        "\n",
        "ans = 2*g - r\n",
        "print(ans)"
      ],
      "execution_count": null,
      "outputs": [
        {
          "output_type": "stream",
          "text": [
            "4500\n",
            "0\n",
            "-4500\n"
          ],
          "name": "stdout"
        }
      ]
    },
    {
      "cell_type": "code",
      "metadata": {
        "colab": {
          "base_uri": "https://localhost:8080/"
        },
        "id": "vsHRmA5fsEse",
        "outputId": "e0406530-f8cb-4df9-b24d-54bd74eefc1a"
      },
      "source": [
        "\n",
        "#@title \n",
        "import bisect\n",
        "import heapq\n",
        "from collections import defaultdict\n",
        "from collections import deque\n",
        "from collections import Counter\n",
        "from functools import lru_cache\n",
        "import sys\n",
        "sys.setrecursionlimit(500*500)\n",
        " \n",
        "#############\n",
        "# Constants #\n",
        "#############\n",
        " \n",
        "MOD = 10**9+7\n",
        "INF = float('inf')\n",
        "AZ = \"abcdefghijklmnopqrstuvwxyz\"\n",
        " \n",
        "#############\n",
        "# Functions #\n",
        "#############\n",
        " \n",
        "######INPUT######\n",
        "def I(t): return t(input().strip())\n",
        "def IM(t): return map(t,input().split())\n",
        "def IL(t): return list(map(t,input().split()))\n",
        "def ILs(t, n): return list(t(input()) for _ in range(n))\n",
        "def ILL(t, n): return [list(map(t, input().split())) for _ in range(n)]\n",
        "\n",
        "n = I(int)\n",
        "k = I(int)\n",
        "\n",
        "ans = 1\n",
        "for i in range(n):\n",
        "  ans = min(2*ans, ans+k)\n",
        "print(ans)"
      ],
      "execution_count": 7,
      "outputs": [
        {
          "output_type": "stream",
          "text": [
            "4\n",
            "3\n",
            "2\n",
            "4\n",
            "7\n",
            "10\n",
            "10\n"
          ],
          "name": "stdout"
        }
      ]
    },
    {
      "cell_type": "code",
      "metadata": {
        "colab": {
          "base_uri": "https://localhost:8080/"
        },
        "id": "SEbeSk1As3UZ",
        "outputId": "b8f4446b-0bdc-4cf1-cf92-be5226b30ace"
      },
      "source": [
        "\n",
        "#@title \n",
        "import bisect\n",
        "import heapq\n",
        "from collections import defaultdict\n",
        "from collections import deque\n",
        "from collections import Counter\n",
        "from functools import lru_cache\n",
        "import sys\n",
        "sys.setrecursionlimit(500*500)\n",
        " \n",
        "#############\n",
        "# Constants #\n",
        "#############\n",
        " \n",
        "MOD = 10**9+7\n",
        "INF = float('inf')\n",
        "AZ = \"abcdefghijklmnopqrstuvwxyz\"\n",
        " \n",
        "#############\n",
        "# Functions #\n",
        "#############\n",
        " \n",
        "######INPUT######\n",
        "def I(t): return t(input().strip())\n",
        "def IM(t): return map(t,input().split())\n",
        "def IL(t): return list(map(t,input().split()))\n",
        "def ILs(t, n): return list(t(input()) for _ in range(n))\n",
        "def ILL(t, n): return [list(map(t, input().split())) for _ in range(n)]\n",
        "\n",
        "#s = '?tc????'\n",
        "#t = 'coder'\n",
        "s = I(str)\n",
        "t = I(str)\n",
        "\n",
        "ans = []\n",
        "for i in range(len(s)-len(t)+1):\n",
        "  f = s[:i]\n",
        "  flg = True\n",
        "  for j in range(len(t)):\n",
        "    if s[i+j] == '?':\n",
        "      continue\n",
        "    if t[j] != s[i+j]:\n",
        "      flg = False\n",
        "      break\n",
        "  if flg:\n",
        "    x = f + t\n",
        "    x += s[len(x):]\n",
        "    x = x.replace('?', 'a')\n",
        "    ans.append(x)\n",
        "if ans == []:\n",
        "  print('UNRESTORABLE')\n",
        "else:\n",
        "  ans = sorted(ans)\n",
        "  print(ans[0])\n"
      ],
      "execution_count": 77,
      "outputs": [
        {
          "output_type": "stream",
          "text": [
            "??p??d??\n",
            "Abc\n",
            "UNRESTORABLE\n"
          ],
          "name": "stdout"
        }
      ]
    },
    {
      "cell_type": "code",
      "metadata": {
        "colab": {
          "base_uri": "https://localhost:8080/"
        },
        "id": "KM0bt6J_v-wS",
        "outputId": "bb494151-0f87-4169-a54f-7c27c579864d"
      },
      "source": [
        ""
      ],
      "execution_count": 56,
      "outputs": [
        {
          "output_type": "stream",
          "text": [
            "\n"
          ],
          "name": "stdout"
        }
      ]
    },
    {
      "cell_type": "code",
      "metadata": {
        "colab": {
          "base_uri": "https://localhost:8080/",
          "height": 38
        },
        "id": "kzIzgg4gBnnO",
        "outputId": "2a20ef54-41fd-403e-c037-1e2067cb88e9"
      },
      "source": [
        "d = '11'\n",
        "d[:0]"
      ],
      "execution_count": 58,
      "outputs": [
        {
          "output_type": "execute_result",
          "data": {
            "application/vnd.google.colaboratory.intrinsic+json": {
              "type": "string"
            },
            "text/plain": [
              "''"
            ]
          },
          "metadata": {
            "tags": []
          },
          "execution_count": 58
        }
      ]
    },
    {
      "cell_type": "code",
      "metadata": {
        "id": "QwdFE8BMDaww"
      },
      "source": [
        ""
      ],
      "execution_count": null,
      "outputs": []
    }
  ]
}