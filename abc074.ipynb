{
  "nbformat": 4,
  "nbformat_minor": 0,
  "metadata": {
    "colab": {
      "name": "abc074.ipynb",
      "provenance": [],
      "authorship_tag": "ABX9TyMd+xw+OdVFzymEAE2Ct+Fi",
      "include_colab_link": true
    },
    "kernelspec": {
      "name": "python3",
      "display_name": "Python 3"
    },
    "language_info": {
      "name": "python"
    }
  },
  "cells": [
    {
      "cell_type": "markdown",
      "metadata": {
        "id": "view-in-github",
        "colab_type": "text"
      },
      "source": [
        "<a href=\"https://colab.research.google.com/github/Dopel04/atc/blob/main/abc074.ipynb\" target=\"_parent\"><img src=\"https://colab.research.google.com/assets/colab-badge.svg\" alt=\"Open In Colab\"/></a>"
      ]
    },
    {
      "cell_type": "code",
      "metadata": {
        "id": "TJdjiPjtfMaE",
        "colab": {
          "base_uri": "https://localhost:8080/"
        },
        "outputId": "3a4e436c-52d7-4460-e5d9-278e51902ffe"
      },
      "source": [
        "#@title \n",
        "import bisect\n",
        "import heapq\n",
        "from collections import defaultdict\n",
        "from collections import deque\n",
        "from collections import Counter\n",
        "from functools import lru_cache\n",
        "import sys\n",
        "sys.setrecursionlimit(500*500)\n",
        " \n",
        "#############\n",
        "# Constants #\n",
        "#############\n",
        " \n",
        "MOD = 10**9+7\n",
        "INF = float('inf')\n",
        "AZ = \"abcdefghijklmnopqrstuvwxyz\"\n",
        " \n",
        "#############\n",
        "# Functions #\n",
        "#############\n",
        " \n",
        "######INPUT######\n",
        "def I(t): return t(input().strip())\n",
        "def IM(t): return map(t,input().split())\n",
        "def IL(t): return list(map(t,input().split()))\n",
        "def ILs(t, n): return list(t(input()) for _ in range(n))\n",
        "def ILL(t, n): return [list(map(t, input().split())) for _ in range(n)]\n",
        "\n",
        "n = I(int)\n",
        "a = I(int)\n",
        "\n",
        "ans = pow(n, 2)-a\n",
        "print(ans)"
      ],
      "execution_count": 4,
      "outputs": [
        {
          "output_type": "stream",
          "text": [
            "10\n",
            "0\n",
            "100\n"
          ],
          "name": "stdout"
        }
      ]
    },
    {
      "cell_type": "code",
      "metadata": {
        "id": "y1kurge9gP3v"
      },
      "source": [
        ""
      ],
      "execution_count": null,
      "outputs": []
    }
  ]
}