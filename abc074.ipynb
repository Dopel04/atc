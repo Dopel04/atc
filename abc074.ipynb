{
  "nbformat": 4,
  "nbformat_minor": 0,
  "metadata": {
    "colab": {
      "name": "abc074.ipynb",
      "provenance": [],
      "authorship_tag": "ABX9TyPS96x3Z0Ll7FChkNbs5Ag+",
      "include_colab_link": true
    },
    "kernelspec": {
      "name": "python3",
      "display_name": "Python 3"
    },
    "language_info": {
      "name": "python"
    }
  },
  "cells": [
    {
      "cell_type": "markdown",
      "metadata": {
        "id": "view-in-github",
        "colab_type": "text"
      },
      "source": [
        "<a href=\"https://colab.research.google.com/github/Dopel04/atc/blob/main/abc074.ipynb\" target=\"_parent\"><img src=\"https://colab.research.google.com/assets/colab-badge.svg\" alt=\"Open In Colab\"/></a>"
      ]
    },
    {
      "cell_type": "code",
      "metadata": {
        "id": "TJdjiPjtfMaE",
        "colab": {
          "base_uri": "https://localhost:8080/"
        },
        "outputId": "3a4e436c-52d7-4460-e5d9-278e51902ffe"
      },
      "source": [
        "#@title \n",
        "import bisect\n",
        "import heapq\n",
        "from collections import defaultdict\n",
        "from collections import deque\n",
        "from collections import Counter\n",
        "from functools import lru_cache\n",
        "import sys\n",
        "sys.setrecursionlimit(500*500)\n",
        " \n",
        "#############\n",
        "# Constants #\n",
        "#############\n",
        " \n",
        "MOD = 10**9+7\n",
        "INF = float('inf')\n",
        "AZ = \"abcdefghijklmnopqrstuvwxyz\"\n",
        " \n",
        "#############\n",
        "# Functions #\n",
        "#############\n",
        " \n",
        "######INPUT######\n",
        "def I(t): return t(input().strip())\n",
        "def IM(t): return map(t,input().split())\n",
        "def IL(t): return list(map(t,input().split()))\n",
        "def ILs(t, n): return list(t(input()) for _ in range(n))\n",
        "def ILL(t, n): return [list(map(t, input().split())) for _ in range(n)]\n",
        "\n",
        "n = I(int)\n",
        "a = I(int)\n",
        "\n",
        "ans = pow(n, 2)-a\n",
        "print(ans)"
      ],
      "execution_count": 4,
      "outputs": [
        {
          "output_type": "stream",
          "text": [
            "10\n",
            "0\n",
            "100\n"
          ],
          "name": "stdout"
        }
      ]
    },
    {
      "cell_type": "code",
      "metadata": {
        "colab": {
          "base_uri": "https://localhost:8080/"
        },
        "id": "y1kurge9gP3v",
        "outputId": "9332b419-8f2e-47b9-f63b-75df85e63b7f"
      },
      "source": [
        "#@title \n",
        "import bisect\n",
        "import heapq\n",
        "from collections import defaultdict\n",
        "from collections import deque\n",
        "from collections import Counter\n",
        "from functools import lru_cache\n",
        "import sys\n",
        "sys.setrecursionlimit(500*500)\n",
        " \n",
        "#############\n",
        "# Constants #\n",
        "#############\n",
        " \n",
        "MOD = 10**9+7\n",
        "INF = float('inf')\n",
        "AZ = \"abcdefghijklmnopqrstuvwxyz\"\n",
        " \n",
        "#############\n",
        "# Functions #\n",
        "#############\n",
        " \n",
        "######INPUT######\n",
        "def I(t): return t(input().strip())\n",
        "def IM(t): return map(t,input().split())\n",
        "def IL(t): return list(map(t,input().split()))\n",
        "def ILs(t, n): return list(t(input()) for _ in range(n))\n",
        "def ILL(t, n): return [list(map(t, input().split())) for _ in range(n)]\n",
        "\n",
        "n = I(int)\n",
        "k = I(int)\n",
        "x = IL(int)\n",
        "\n",
        "ans = 0\n",
        "for i in x:\n",
        "  ans += min(abs(k - i), abs(i))*2\n",
        "\n",
        "print(ans)\n"
      ],
      "execution_count": 11,
      "outputs": [
        {
          "output_type": "stream",
          "text": [
            "2\n",
            "9\n",
            "3 6\n",
            "12\n"
          ],
          "name": "stdout"
        }
      ]
    },
    {
      "cell_type": "code",
      "metadata": {
        "id": "_qUcWkBJkQia"
      },
      "source": [
        ""
      ],
      "execution_count": null,
      "outputs": []
    }
  ]
}